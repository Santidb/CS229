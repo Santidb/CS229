{
  "nbformat": 4,
  "nbformat_minor": 0,
  "metadata": {
    "colab": {
      "name": "Data_manipulation.ipynb",
      "provenance": [],
      "collapsed_sections": []
    },
    "kernelspec": {
      "name": "python3",
      "display_name": "Python 3"
    }
  },
  "cells": [
    {
      "cell_type": "code",
      "metadata": {
        "id": "sDTG4QBpMITl",
        "colab": {
          "base_uri": "https://localhost:8080/"
        },
        "outputId": "3f085f5a-720a-470f-e840-4bcc9c6b9fd5"
      },
      "source": [
        "# This mounts your Google Drive to the Colab VM.\n",
        "from google.colab import drive\n",
        "drive.mount('/content/drive', force_remount=True)\n",
        "\n",
        "# Enter the foldername in your Drive where you have saved the unzipped\n",
        "# assignment folder, e.g. 'cs231n/assignments/assignment3/'\n",
        "FOLDERNAME = 'CS229/Project/Load_Data'\n",
        "assert FOLDERNAME is not None, \"[!] Enter the foldername.\"\n",
        "\n",
        "# now that we've mounted your Drive, this ensures that\n",
        "# the Python interpreter of the Colab VM can load\n",
        "# python files from within it.\n",
        "import sys\n",
        "sys.path.append('/content/drive/My Drive/{}'.format(FOLDERNAME))\n",
        "%cd drive/My\\ Drive/$FOLDERNAME"
      ],
      "execution_count": null,
      "outputs": [
        {
          "output_type": "stream",
          "text": [
            "Mounted at /content/drive\n",
            "/content/drive/My Drive/CS229/Project/Load_Data\n"
          ],
          "name": "stdout"
        }
      ]
    },
    {
      "cell_type": "code",
      "metadata": {
        "id": "jAYwz0lcZPFo"
      },
      "source": [
        "import numpy as np\n",
        "import pandas as pd\n",
        "import os\n",
        "from sklearn.model_selection import train_test_split\n",
        "\n",
        "# for auto-reloading external modules\n",
        "# see http://stackoverflow.com/questions/1907993/autoreload-of-modules-in-ipython\n",
        "%load_ext autoreload\n",
        "%autoreload 2\n",
        "\n",
        "# Setting pandas options\n",
        "pd.set_option('display.max_rows', 300)\n",
        "pd.set_option('display.max_columns', None)"
      ],
      "execution_count": null,
      "outputs": []
    },
    {
      "cell_type": "markdown",
      "metadata": {
        "id": "tG3rPTUnZ53o"
      },
      "source": [
        "### Separating data from Moneyline.pkl into train, validation and test sets"
      ]
    },
    {
      "cell_type": "code",
      "metadata": {
        "id": "ln_54mJVZ4Us"
      },
      "source": [
        "df = pd.read_csv(\"Moneyline_alldata.csv\", index_col=0)"
      ],
      "execution_count": null,
      "outputs": []
    },
    {
      "cell_type": "code",
      "metadata": {
        "id": "BJzSUWI9aIua",
        "colab": {
          "base_uri": "https://localhost:8080/",
          "height": 411
        },
        "outputId": "41c80948-859f-44c4-fb1f-4940cde5d332"
      },
      "source": [
        "df"
      ],
      "execution_count": null,
      "outputs": [
        {
          "output_type": "execute_result",
          "data": {
            "text/html": [
              "<div>\n",
              "<style scoped>\n",
              "    .dataframe tbody tr th:only-of-type {\n",
              "        vertical-align: middle;\n",
              "    }\n",
              "\n",
              "    .dataframe tbody tr th {\n",
              "        vertical-align: top;\n",
              "    }\n",
              "\n",
              "    .dataframe thead th {\n",
              "        text-align: right;\n",
              "    }\n",
              "</style>\n",
              "<table border=\"1\" class=\"dataframe\">\n",
              "  <thead>\n",
              "    <tr style=\"text-align: right;\">\n",
              "      <th></th>\n",
              "      <th>ID</th>\n",
              "      <th>Match_date</th>\n",
              "      <th>Timestamp</th>\n",
              "      <th>Match_time</th>\n",
              "      <th>Q</th>\n",
              "      <th>Time_left</th>\n",
              "      <th>Team_Home</th>\n",
              "      <th>Team_Away</th>\n",
              "      <th>Score_Home</th>\n",
              "      <th>Score_Away</th>\n",
              "      <th>Spread</th>\n",
              "      <th>Odds_Home</th>\n",
              "      <th>Odds_Away</th>\n",
              "      <th>Initial_odds_home</th>\n",
              "      <th>Initial_odds_away</th>\n",
              "      <th>Winner</th>\n",
              "    </tr>\n",
              "  </thead>\n",
              "  <tbody>\n",
              "    <tr>\n",
              "      <th>0</th>\n",
              "      <td>0</td>\n",
              "      <td>2019/12/05 08:30</td>\n",
              "      <td>12/04 16:30</td>\n",
              "      <td>Pre-match</td>\n",
              "      <td>1.0</td>\n",
              "      <td>48.000000</td>\n",
              "      <td>Atlanta Hawks</td>\n",
              "      <td>BKN Nets</td>\n",
              "      <td>0</td>\n",
              "      <td>0</td>\n",
              "      <td>0</td>\n",
              "      <td>1.95</td>\n",
              "      <td>1.860</td>\n",
              "      <td>1.95</td>\n",
              "      <td>1.86</td>\n",
              "      <td>0</td>\n",
              "    </tr>\n",
              "    <tr>\n",
              "      <th>1</th>\n",
              "      <td>0</td>\n",
              "      <td>2019/12/05 08:30</td>\n",
              "      <td>12/04 23:11</td>\n",
              "      <td>Pre-match</td>\n",
              "      <td>1.0</td>\n",
              "      <td>48.000000</td>\n",
              "      <td>Atlanta Hawks</td>\n",
              "      <td>BKN Nets</td>\n",
              "      <td>0</td>\n",
              "      <td>0</td>\n",
              "      <td>0</td>\n",
              "      <td>2.30</td>\n",
              "      <td>1.660</td>\n",
              "      <td>1.95</td>\n",
              "      <td>1.86</td>\n",
              "      <td>0</td>\n",
              "    </tr>\n",
              "    <tr>\n",
              "      <th>2</th>\n",
              "      <td>0</td>\n",
              "      <td>2019/12/05 08:30</td>\n",
              "      <td>12/04 23:25</td>\n",
              "      <td>Pre-match</td>\n",
              "      <td>1.0</td>\n",
              "      <td>48.000000</td>\n",
              "      <td>Atlanta Hawks</td>\n",
              "      <td>BKN Nets</td>\n",
              "      <td>0</td>\n",
              "      <td>0</td>\n",
              "      <td>0</td>\n",
              "      <td>2.25</td>\n",
              "      <td>1.680</td>\n",
              "      <td>1.95</td>\n",
              "      <td>1.86</td>\n",
              "      <td>0</td>\n",
              "    </tr>\n",
              "    <tr>\n",
              "      <th>3</th>\n",
              "      <td>0</td>\n",
              "      <td>2019/12/05 08:30</td>\n",
              "      <td>12/04 23:58</td>\n",
              "      <td>Pre-match</td>\n",
              "      <td>1.0</td>\n",
              "      <td>48.000000</td>\n",
              "      <td>Atlanta Hawks</td>\n",
              "      <td>BKN Nets</td>\n",
              "      <td>0</td>\n",
              "      <td>0</td>\n",
              "      <td>0</td>\n",
              "      <td>2.30</td>\n",
              "      <td>1.660</td>\n",
              "      <td>1.95</td>\n",
              "      <td>1.86</td>\n",
              "      <td>0</td>\n",
              "    </tr>\n",
              "    <tr>\n",
              "      <th>4</th>\n",
              "      <td>0</td>\n",
              "      <td>2019/12/05 08:30</td>\n",
              "      <td>12/05 01:10</td>\n",
              "      <td>Pre-match</td>\n",
              "      <td>1.0</td>\n",
              "      <td>48.000000</td>\n",
              "      <td>Atlanta Hawks</td>\n",
              "      <td>BKN Nets</td>\n",
              "      <td>0</td>\n",
              "      <td>0</td>\n",
              "      <td>0</td>\n",
              "      <td>2.35</td>\n",
              "      <td>1.640</td>\n",
              "      <td>1.95</td>\n",
              "      <td>1.86</td>\n",
              "      <td>0</td>\n",
              "    </tr>\n",
              "    <tr>\n",
              "      <th>...</th>\n",
              "      <td>...</td>\n",
              "      <td>...</td>\n",
              "      <td>...</td>\n",
              "      <td>...</td>\n",
              "      <td>...</td>\n",
              "      <td>...</td>\n",
              "      <td>...</td>\n",
              "      <td>...</td>\n",
              "      <td>...</td>\n",
              "      <td>...</td>\n",
              "      <td>...</td>\n",
              "      <td>...</td>\n",
              "      <td>...</td>\n",
              "      <td>...</td>\n",
              "      <td>...</td>\n",
              "      <td>...</td>\n",
              "    </tr>\n",
              "    <tr>\n",
              "      <th>299741</th>\n",
              "      <td>1044</td>\n",
              "      <td>2020/01/13 04:30</td>\n",
              "      <td>01/13 06:50</td>\n",
              "      <td>Q4 00:43</td>\n",
              "      <td>4.0</td>\n",
              "      <td>0.716667</td>\n",
              "      <td>Washington Wizards</td>\n",
              "      <td>Utah Jazz</td>\n",
              "      <td>115</td>\n",
              "      <td>122</td>\n",
              "      <td>-7</td>\n",
              "      <td>17.50</td>\n",
              "      <td>1.012</td>\n",
              "      <td>4.20</td>\n",
              "      <td>1.25</td>\n",
              "      <td>0</td>\n",
              "    </tr>\n",
              "    <tr>\n",
              "      <th>299742</th>\n",
              "      <td>1044</td>\n",
              "      <td>2020/01/13 04:30</td>\n",
              "      <td>01/13 06:50</td>\n",
              "      <td>Q4 00:43</td>\n",
              "      <td>4.0</td>\n",
              "      <td>0.716667</td>\n",
              "      <td>Washington Wizards</td>\n",
              "      <td>Utah Jazz</td>\n",
              "      <td>115</td>\n",
              "      <td>122</td>\n",
              "      <td>-7</td>\n",
              "      <td>15.50</td>\n",
              "      <td>1.028</td>\n",
              "      <td>4.20</td>\n",
              "      <td>1.25</td>\n",
              "      <td>0</td>\n",
              "    </tr>\n",
              "    <tr>\n",
              "      <th>299743</th>\n",
              "      <td>1044</td>\n",
              "      <td>2020/01/13 04:30</td>\n",
              "      <td>01/13 06:50</td>\n",
              "      <td>Q4 00:43</td>\n",
              "      <td>4.0</td>\n",
              "      <td>0.716667</td>\n",
              "      <td>Washington Wizards</td>\n",
              "      <td>Utah Jazz</td>\n",
              "      <td>115</td>\n",
              "      <td>122</td>\n",
              "      <td>-7</td>\n",
              "      <td>17.50</td>\n",
              "      <td>1.012</td>\n",
              "      <td>4.20</td>\n",
              "      <td>1.25</td>\n",
              "      <td>0</td>\n",
              "    </tr>\n",
              "    <tr>\n",
              "      <th>299744</th>\n",
              "      <td>1044</td>\n",
              "      <td>2020/01/13 04:30</td>\n",
              "      <td>01/13 06:51</td>\n",
              "      <td>Q4 00:33</td>\n",
              "      <td>4.0</td>\n",
              "      <td>0.550000</td>\n",
              "      <td>Washington Wizards</td>\n",
              "      <td>Utah Jazz</td>\n",
              "      <td>116</td>\n",
              "      <td>122</td>\n",
              "      <td>-6</td>\n",
              "      <td>19.00</td>\n",
              "      <td>1.006</td>\n",
              "      <td>4.20</td>\n",
              "      <td>1.25</td>\n",
              "      <td>0</td>\n",
              "    </tr>\n",
              "    <tr>\n",
              "      <th>299745</th>\n",
              "      <td>1044</td>\n",
              "      <td>2020/01/13 04:30</td>\n",
              "      <td>01/13 06:51</td>\n",
              "      <td>Q4 00:23</td>\n",
              "      <td>4.0</td>\n",
              "      <td>0.383333</td>\n",
              "      <td>Washington Wizards</td>\n",
              "      <td>Utah Jazz</td>\n",
              "      <td>116</td>\n",
              "      <td>122</td>\n",
              "      <td>-6</td>\n",
              "      <td>23.00</td>\n",
              "      <td>1.004</td>\n",
              "      <td>4.20</td>\n",
              "      <td>1.25</td>\n",
              "      <td>0</td>\n",
              "    </tr>\n",
              "  </tbody>\n",
              "</table>\n",
              "<p>299746 rows × 16 columns</p>\n",
              "</div>"
            ],
            "text/plain": [
              "          ID        Match_date     Timestamp Match_time    Q  Time_left  \\\n",
              "0          0  2019/12/05 08:30   12/04 16:30  Pre-match  1.0  48.000000   \n",
              "1          0  2019/12/05 08:30   12/04 23:11  Pre-match  1.0  48.000000   \n",
              "2          0  2019/12/05 08:30   12/04 23:25  Pre-match  1.0  48.000000   \n",
              "3          0  2019/12/05 08:30   12/04 23:58  Pre-match  1.0  48.000000   \n",
              "4          0  2019/12/05 08:30   12/05 01:10  Pre-match  1.0  48.000000   \n",
              "...      ...               ...           ...        ...  ...        ...   \n",
              "299741  1044  2020/01/13 04:30   01/13 06:50   Q4 00:43  4.0   0.716667   \n",
              "299742  1044  2020/01/13 04:30   01/13 06:50   Q4 00:43  4.0   0.716667   \n",
              "299743  1044  2020/01/13 04:30   01/13 06:50   Q4 00:43  4.0   0.716667   \n",
              "299744  1044  2020/01/13 04:30   01/13 06:51   Q4 00:33  4.0   0.550000   \n",
              "299745  1044  2020/01/13 04:30   01/13 06:51   Q4 00:23  4.0   0.383333   \n",
              "\n",
              "                 Team_Home  Team_Away  Score_Home  Score_Away  Spread  \\\n",
              "0            Atlanta Hawks   BKN Nets           0           0       0   \n",
              "1            Atlanta Hawks   BKN Nets           0           0       0   \n",
              "2            Atlanta Hawks   BKN Nets           0           0       0   \n",
              "3            Atlanta Hawks   BKN Nets           0           0       0   \n",
              "4            Atlanta Hawks   BKN Nets           0           0       0   \n",
              "...                    ...        ...         ...         ...     ...   \n",
              "299741  Washington Wizards  Utah Jazz         115         122      -7   \n",
              "299742  Washington Wizards  Utah Jazz         115         122      -7   \n",
              "299743  Washington Wizards  Utah Jazz         115         122      -7   \n",
              "299744  Washington Wizards  Utah Jazz         116         122      -6   \n",
              "299745  Washington Wizards  Utah Jazz         116         122      -6   \n",
              "\n",
              "        Odds_Home  Odds_Away  Initial_odds_home  Initial_odds_away  Winner  \n",
              "0            1.95      1.860               1.95               1.86       0  \n",
              "1            2.30      1.660               1.95               1.86       0  \n",
              "2            2.25      1.680               1.95               1.86       0  \n",
              "3            2.30      1.660               1.95               1.86       0  \n",
              "4            2.35      1.640               1.95               1.86       0  \n",
              "...           ...        ...                ...                ...     ...  \n",
              "299741      17.50      1.012               4.20               1.25       0  \n",
              "299742      15.50      1.028               4.20               1.25       0  \n",
              "299743      17.50      1.012               4.20               1.25       0  \n",
              "299744      19.00      1.006               4.20               1.25       0  \n",
              "299745      23.00      1.004               4.20               1.25       0  \n",
              "\n",
              "[299746 rows x 16 columns]"
            ]
          },
          "metadata": {
            "tags": []
          },
          "execution_count": 36
        }
      ]
    },
    {
      "cell_type": "markdown",
      "metadata": {
        "id": "2tXumrKyd41w"
      },
      "source": [
        "### Generating variables for model"
      ]
    },
    {
      "cell_type": "code",
      "metadata": {
        "id": "Ph2sBpyOeBdL"
      },
      "source": [
        "# Generating categorical variables\n",
        "cat_vars=['Q','Team_Home','Team_Away']\n",
        "\n",
        "# Generate a copy of the original df\n",
        "df_dummies = df.copy()\n",
        "\n",
        "# For each variable (Q) generate dummy variables (Q_1, Q_2, Q_3, Q_4) and join them to main dataframe\n",
        "for var in cat_vars:\n",
        "#     We use drop_first = True to remove the first categorical variable\n",
        "    cat_list = pd.get_dummies(df[var], prefix=var, drop_first=True)\n",
        "    data1=df_dummies.join(cat_list)\n",
        "    df_dummies=data1\n",
        "    \n",
        "# Remove the original categorical variables and keep new generated dummy variables\n",
        "data_vars=df_dummies.columns.values.tolist()\n",
        "to_keep=[i for i in data_vars if i not in cat_vars]"
      ],
      "execution_count": null,
      "outputs": []
    },
    {
      "cell_type": "code",
      "metadata": {
        "id": "PjZuzAFiectr"
      },
      "source": [
        "# Leaving only variables we want to keep\n",
        "df_processed = df_dummies[to_keep]"
      ],
      "execution_count": null,
      "outputs": []
    },
    {
      "cell_type": "code",
      "metadata": {
        "id": "ZoI5F6IGeeQ2"
      },
      "source": [
        "# Selecting variables we want to keep\n",
        "final_vars = df_processed.columns.values.tolist()\n",
        "# We will remove all of the following variables\n",
        "for ele in ['Match_date', 'Timestamp', 'Match_time', 'Score_Home', 'Score_Away']:\n",
        "    final_vars.remove(ele)\n",
        "\n",
        "# Indicating x and y variables\n",
        "y_var = ['Winner']\n",
        "X_vars = [i for i in final_vars if i not in y_var]"
      ],
      "execution_count": null,
      "outputs": []
    },
    {
      "cell_type": "code",
      "metadata": {
        "id": "isEu8sXaeki5"
      },
      "source": [
        "# Obtaining X and y variables\n",
        "y = df_processed[y_var]\n",
        "X = df_processed[X_vars]"
      ],
      "execution_count": null,
      "outputs": []
    },
    {
      "cell_type": "markdown",
      "metadata": {
        "id": "Nbh0TcxqegjO"
      },
      "source": [
        "### Setting up samples"
      ]
    },
    {
      "cell_type": "code",
      "metadata": {
        "id": "GXkvkXu_N-81",
        "colab": {
          "base_uri": "https://localhost:8080/"
        },
        "outputId": "c9a02696-8914-49a5-b769-0732cf392cd3"
      },
      "source": [
        "# Process for splitting data\n",
        "\n",
        "def train_val_test_splits(X, y, train_share, validation_share, test_share):\n",
        "  \"\"\" Takes a feature matrix x, and labels y, and separates into training, validation and test samples\n",
        "\n",
        "  Args:\n",
        "    x: feature matrix, must contain column named ID with a unique match identifier\n",
        "    y: labels\n",
        "    train, validation, test_share: share of data to split into each group\n",
        "  \n",
        "  Returns:\n",
        "    x_train, x_val, x_test: splits of feature map data\n",
        "    y_train, y_val, y_test: splits of label data\n",
        "  \"\"\"\n",
        "  # Verifying that the input makes sense\n",
        "  assert train_share + validation_share + test_share == 1, \"Share does not sum to 100%\"\n",
        "\n",
        "  # We want to break up samples by separating match IDs into train, validation and test sets\n",
        "  ID_list = X.ID.unique()\n",
        "\n",
        "  # Generate a random uniform distribution\n",
        "  rand = np.random.uniform(size=len(ID_list))\n",
        "  # Create True/False vectors that determine whether each match is part of that sample\n",
        "  train_sample = (rand <= train_share)\n",
        "  val_sample = ((train_share < rand) & (rand < (train_share + val_share)))\n",
        "  test_sample = (rand >= (train_share + val_share))\n",
        "  # Obtaining the list of game IDs for each sample\n",
        "  train_id = ID_list[train_sample]\n",
        "  val_id = ID_list[val_sample]\n",
        "  test_id = ID_list[test_sample]\n",
        "\n",
        "  # Now we want to go back to the full sized matrix and determine whether observations from each game ID should be in that sample\n",
        "  train_matrix = X['ID'].isin(train_id)\n",
        "  val_matrix = X['ID'].isin(val_id)\n",
        "  test_matrix = X['ID'].isin(test_id)\n",
        "\n",
        "  # Remove the ID column from X matrix. Here 1 is for column, 0 would be for rows\n",
        "  X = X.drop('ID', 1)\n",
        "  \n",
        "  # Finally, we extract the games for each sample\n",
        "  x_train = X[train_matrix]\n",
        "  x_val = X[val_matrix]\n",
        "  x_test = X[test_matrix]\n",
        "\n",
        "  # Do the same for labels now\n",
        "  y_train = y[train_matrix]\n",
        "  y_val = y[val_matrix]\n",
        "  y_test = y[test_matrix]\n",
        "\n",
        "  return x_train, x_val, x_test, y_train, y_val, y_test\n",
        "\n",
        "# Verifying size of outputs\n",
        "print(f\"Training sample is {x_train.shape[0]}\")\n",
        "print(f\"Validation sample is {x_val.shape[0]}\")\n",
        "print(f\"Test sample is {x_test.shape[0]}\")\n",
        "\n"
      ],
      "execution_count": null,
      "outputs": [
        {
          "output_type": "stream",
          "text": [
            "Training sample is 207024\n",
            "Validation sample is 45397\n",
            "Test sample is 47325\n"
          ],
          "name": "stdout"
        }
      ]
    },
    {
      "cell_type": "code",
      "metadata": {
        "id": "sysaLUjkGCj7"
      },
      "source": [
        "# Define what percentage we want in training, validation and test\n",
        "train_share = 0.70\n",
        "val_share = 0.15\n",
        "test_share = 0.15\n",
        "\n",
        "x_train, x_val, x_test, y_train, y_val, y_test = train_val_test_splits(X, y, train_share, val_share, test_share)"
      ],
      "execution_count": null,
      "outputs": []
    },
    {
      "cell_type": "code",
      "metadata": {
        "id": "xo2yHexQevYx"
      },
      "source": [
        "# Saving the datasets to file\n",
        "x_train.to_csv(\"x_train.csv\")\n",
        "pd.DataFrame(y_train).to_csv(\"y_train.csv\")\n",
        "x_val.to_csv(\"x_val.csv\")\n",
        "pd.DataFrame(y_val).to_csv(\"y_val.csv\")\n",
        "x_test.to_csv(\"x_test.csv\")\n",
        "pd.DataFrame(y_test).to_csv(\"y_test.csv\")"
      ],
      "execution_count": null,
      "outputs": []
    }
  ]
}